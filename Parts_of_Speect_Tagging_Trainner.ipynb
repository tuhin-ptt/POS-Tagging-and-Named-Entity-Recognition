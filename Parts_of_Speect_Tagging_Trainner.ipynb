{
 "cells": [
  {
   "cell_type": "markdown",
   "metadata": {
    "id": "FB1BhSRaO_p9"
   },
   "source": [
    "## import necessary items"
   ]
  },
  {
   "cell_type": "code",
   "execution_count": 3,
   "metadata": {
    "colab": {
     "base_uri": "https://localhost:8080/"
    },
    "executionInfo": {
     "elapsed": 4685,
     "status": "ok",
     "timestamp": 1660747182444,
     "user": {
      "displayName": "Md. Kamrul Hasan Tuhin",
      "userId": "09842155178617471284"
     },
     "user_tz": -360
    },
    "id": "ZH63uG1uPLK7",
    "outputId": "dc44ae59-7e66-427d-ff8e-1fb2825f8292"
   },
   "outputs": [
    {
     "name": "stdout",
     "output_type": "stream",
     "text": [
      "Drive already mounted at /content/drive; to attempt to forcibly remount, call drive.mount(\"/content/drive\", force_remount=True).\n",
      "/content/drive/MyDrive/Colab Notebooks/POS Tagger and Named Entity Recognition\n"
     ]
    }
   ],
   "source": [
    "from google.colab import drive\n",
    "drive.mount('/content/drive')\n",
    "%cd /content/drive/MyDrive/Colab Notebooks/POS Tagger and Named Entity Recognition"
   ]
  },
  {
   "cell_type": "code",
   "execution_count": 1,
   "metadata": {
    "execution": {
     "iopub.execute_input": "2021-09-12T15:27:58.936732Z",
     "iopub.status.busy": "2021-09-12T15:27:58.936013Z",
     "iopub.status.idle": "2021-09-12T15:27:58.953554Z",
     "shell.execute_reply": "2021-09-12T15:27:58.952536Z",
     "shell.execute_reply.started": "2021-09-12T15:27:58.936619Z"
    },
    "executionInfo": {
     "elapsed": 992,
     "status": "ok",
     "timestamp": 1660747270202,
     "user": {
      "displayName": "Md. Kamrul Hasan Tuhin",
      "userId": "09842155178617471284"
     },
     "user_tz": -360
    },
    "id": "x8T1PrTlxbMn"
   },
   "outputs": [],
   "source": [
    "import os \n",
    "import numpy as np\n",
    "import pandas as pd\n",
    "import random as rnd\n",
    "from tensorflow.keras.preprocessing.sequence import pad_sequences\n",
    "from tensorflow.keras.utils import to_categorical"
   ]
  },
  {
   "cell_type": "markdown",
   "metadata": {
    "id": "IgfqUhr7-rHx"
   },
   "source": [
    "## Loading and Preprocessing Dataset\n"
   ]
  },
  {
   "cell_type": "code",
   "execution_count": 2,
   "metadata": {
    "colab": {
     "base_uri": "https://localhost:8080/",
     "height": 206
    },
    "execution": {
     "iopub.execute_input": "2021-09-12T15:28:06.566183Z",
     "iopub.status.busy": "2021-09-12T15:28:06.565827Z",
     "iopub.status.idle": "2021-09-12T15:28:07.333222Z",
     "shell.execute_reply": "2021-09-12T15:28:07.332460Z",
     "shell.execute_reply.started": "2021-09-12T15:28:06.566133Z"
    },
    "executionInfo": {
     "elapsed": 1291,
     "status": "ok",
     "timestamp": 1660747222639,
     "user": {
      "displayName": "Md. Kamrul Hasan Tuhin",
      "userId": "09842155178617471284"
     },
     "user_tz": -360
    },
    "id": "fA_Qz-Q4leA_",
    "outputId": "284becc5-227c-40bb-b938-800473bb893f"
   },
   "outputs": [
    {
     "data": {
      "text/html": [
       "<div>\n",
       "<style scoped>\n",
       "    .dataframe tbody tr th:only-of-type {\n",
       "        vertical-align: middle;\n",
       "    }\n",
       "\n",
       "    .dataframe tbody tr th {\n",
       "        vertical-align: top;\n",
       "    }\n",
       "\n",
       "    .dataframe thead th {\n",
       "        text-align: right;\n",
       "    }\n",
       "</style>\n",
       "<table border=\"1\" class=\"dataframe\">\n",
       "  <thead>\n",
       "    <tr style=\"text-align: right;\">\n",
       "      <th></th>\n",
       "      <th>Sentence #</th>\n",
       "      <th>Word</th>\n",
       "      <th>POS</th>\n",
       "      <th>Tag</th>\n",
       "    </tr>\n",
       "  </thead>\n",
       "  <tbody>\n",
       "    <tr>\n",
       "      <th>0</th>\n",
       "      <td>Sentence: 1</td>\n",
       "      <td>Thousands</td>\n",
       "      <td>NNS</td>\n",
       "      <td>O</td>\n",
       "    </tr>\n",
       "    <tr>\n",
       "      <th>1</th>\n",
       "      <td>NaN</td>\n",
       "      <td>of</td>\n",
       "      <td>IN</td>\n",
       "      <td>O</td>\n",
       "    </tr>\n",
       "    <tr>\n",
       "      <th>2</th>\n",
       "      <td>NaN</td>\n",
       "      <td>demonstrators</td>\n",
       "      <td>NNS</td>\n",
       "      <td>O</td>\n",
       "    </tr>\n",
       "    <tr>\n",
       "      <th>3</th>\n",
       "      <td>NaN</td>\n",
       "      <td>have</td>\n",
       "      <td>VBP</td>\n",
       "      <td>O</td>\n",
       "    </tr>\n",
       "    <tr>\n",
       "      <th>4</th>\n",
       "      <td>NaN</td>\n",
       "      <td>marched</td>\n",
       "      <td>VBN</td>\n",
       "      <td>O</td>\n",
       "    </tr>\n",
       "  </tbody>\n",
       "</table>\n",
       "</div>"
      ],
      "text/plain": [
       "    Sentence #           Word  POS Tag\n",
       "0  Sentence: 1      Thousands  NNS   O\n",
       "1          NaN             of   IN   O\n",
       "2          NaN  demonstrators  NNS   O\n",
       "3          NaN           have  VBP   O\n",
       "4          NaN        marched  VBN   O"
      ]
     },
     "execution_count": 2,
     "metadata": {},
     "output_type": "execute_result"
    }
   ],
   "source": [
    "data = pd.read_csv('ner_dataset.csv', encoding= 'unicode_escape')\n",
    "data.head()"
   ]
  },
  {
   "cell_type": "code",
   "execution_count": 3,
   "metadata": {
    "colab": {
     "base_uri": "https://localhost:8080/",
     "height": 206
    },
    "execution": {
     "iopub.execute_input": "2021-09-12T15:28:14.313557Z",
     "iopub.status.busy": "2021-09-12T15:28:14.313175Z",
     "iopub.status.idle": "2021-09-12T15:28:14.402114Z",
     "shell.execute_reply": "2021-09-12T15:28:14.401313Z",
     "shell.execute_reply.started": "2021-09-12T15:28:14.313521Z"
    },
    "executionInfo": {
     "elapsed": 557,
     "status": "ok",
     "timestamp": 1660747243502,
     "user": {
      "displayName": "Md. Kamrul Hasan Tuhin",
      "userId": "09842155178617471284"
     },
     "user_tz": -360
    },
    "id": "BWiTdF7kWwkx",
    "outputId": "2d19c6ba-2053-477e-e35e-edb49434b1c8"
   },
   "outputs": [
    {
     "data": {
      "text/html": [
       "<div>\n",
       "<style scoped>\n",
       "    .dataframe tbody tr th:only-of-type {\n",
       "        vertical-align: middle;\n",
       "    }\n",
       "\n",
       "    .dataframe tbody tr th {\n",
       "        vertical-align: top;\n",
       "    }\n",
       "\n",
       "    .dataframe thead th {\n",
       "        text-align: right;\n",
       "    }\n",
       "</style>\n",
       "<table border=\"1\" class=\"dataframe\">\n",
       "  <thead>\n",
       "    <tr style=\"text-align: right;\">\n",
       "      <th></th>\n",
       "      <th>Sentence #</th>\n",
       "      <th>Word</th>\n",
       "      <th>POS</th>\n",
       "      <th>Tag</th>\n",
       "    </tr>\n",
       "  </thead>\n",
       "  <tbody>\n",
       "    <tr>\n",
       "      <th>0</th>\n",
       "      <td>Sentence: 1</td>\n",
       "      <td>Thousands</td>\n",
       "      <td>NNS</td>\n",
       "      <td>O</td>\n",
       "    </tr>\n",
       "    <tr>\n",
       "      <th>1</th>\n",
       "      <td>Sentence: 1</td>\n",
       "      <td>of</td>\n",
       "      <td>IN</td>\n",
       "      <td>O</td>\n",
       "    </tr>\n",
       "    <tr>\n",
       "      <th>2</th>\n",
       "      <td>Sentence: 1</td>\n",
       "      <td>demonstrators</td>\n",
       "      <td>NNS</td>\n",
       "      <td>O</td>\n",
       "    </tr>\n",
       "    <tr>\n",
       "      <th>3</th>\n",
       "      <td>Sentence: 1</td>\n",
       "      <td>have</td>\n",
       "      <td>VBP</td>\n",
       "      <td>O</td>\n",
       "    </tr>\n",
       "    <tr>\n",
       "      <th>4</th>\n",
       "      <td>Sentence: 1</td>\n",
       "      <td>marched</td>\n",
       "      <td>VBN</td>\n",
       "      <td>O</td>\n",
       "    </tr>\n",
       "  </tbody>\n",
       "</table>\n",
       "</div>"
      ],
      "text/plain": [
       "    Sentence #           Word  POS Tag\n",
       "0  Sentence: 1      Thousands  NNS   O\n",
       "1  Sentence: 1             of   IN   O\n",
       "2  Sentence: 1  demonstrators  NNS   O\n",
       "3  Sentence: 1           have  VBP   O\n",
       "4  Sentence: 1        marched  VBN   O"
      ]
     },
     "execution_count": 3,
     "metadata": {},
     "output_type": "execute_result"
    }
   ],
   "source": [
    "data['Sentence #']=data['Sentence #'].ffill(axis = 0) \n",
    "data.head()"
   ]
  },
  {
   "cell_type": "code",
   "execution_count": 4,
   "metadata": {
    "colab": {
     "base_uri": "https://localhost:8080/",
     "height": 281
    },
    "execution": {
     "iopub.execute_input": "2021-09-12T15:28:17.674315Z",
     "iopub.status.busy": "2021-09-12T15:28:17.673932Z",
     "iopub.status.idle": "2021-09-12T15:28:22.450492Z",
     "shell.execute_reply": "2021-09-12T15:28:22.449680Z",
     "shell.execute_reply.started": "2021-09-12T15:28:17.674268Z"
    },
    "executionInfo": {
     "elapsed": 1285,
     "status": "ok",
     "timestamp": 1660747247231,
     "user": {
      "displayName": "Md. Kamrul Hasan Tuhin",
      "userId": "09842155178617471284"
     },
     "user_tz": -360
    },
    "id": "pjiUKSRfXSgU",
    "outputId": "d94e7cf8-eff2-4f35-fd9e-a42bd93ea97f"
   },
   "outputs": [
    {
     "data": {
      "text/html": [
       "<div>\n",
       "<style scoped>\n",
       "    .dataframe tbody tr th:only-of-type {\n",
       "        vertical-align: middle;\n",
       "    }\n",
       "\n",
       "    .dataframe tbody tr th {\n",
       "        vertical-align: top;\n",
       "    }\n",
       "\n",
       "    .dataframe thead th {\n",
       "        text-align: right;\n",
       "    }\n",
       "</style>\n",
       "<table border=\"1\" class=\"dataframe\">\n",
       "  <thead>\n",
       "    <tr style=\"text-align: right;\">\n",
       "      <th></th>\n",
       "      <th>Word</th>\n",
       "      <th>POS</th>\n",
       "      <th>Tag</th>\n",
       "    </tr>\n",
       "    <tr>\n",
       "      <th>Sentence #</th>\n",
       "      <th></th>\n",
       "      <th></th>\n",
       "      <th></th>\n",
       "    </tr>\n",
       "  </thead>\n",
       "  <tbody>\n",
       "    <tr>\n",
       "      <th>Sentence: 1</th>\n",
       "      <td>[Thousands, of, demonstrators, have, marched, ...</td>\n",
       "      <td>[NNS, IN, NNS, VBP, VBN, IN, NNP, TO, VB, DT, ...</td>\n",
       "      <td>[O, O, O, O, O, O, B-geo, O, O, O, O, O, B-geo...</td>\n",
       "    </tr>\n",
       "    <tr>\n",
       "      <th>Sentence: 10</th>\n",
       "      <td>[Iranian, officials, say, they, expect, to, ge...</td>\n",
       "      <td>[JJ, NNS, VBP, PRP, VBP, TO, VB, NN, TO, JJ, J...</td>\n",
       "      <td>[B-gpe, O, O, O, O, O, O, O, O, O, O, O, O, O,...</td>\n",
       "    </tr>\n",
       "    <tr>\n",
       "      <th>Sentence: 100</th>\n",
       "      <td>[Helicopter, gunships, Saturday, pounded, mili...</td>\n",
       "      <td>[NN, NNS, NNP, VBD, JJ, NNS, IN, DT, NNP, JJ, ...</td>\n",
       "      <td>[O, O, B-tim, O, O, O, O, O, B-geo, O, O, O, O...</td>\n",
       "    </tr>\n",
       "    <tr>\n",
       "      <th>Sentence: 1000</th>\n",
       "      <td>[They, left, after, a, tense, hour-long, stand...</td>\n",
       "      <td>[PRP, VBD, IN, DT, NN, JJ, NN, IN, NN, NNS, .]</td>\n",
       "      <td>[O, O, O, O, O, O, O, O, O, O, O]</td>\n",
       "    </tr>\n",
       "    <tr>\n",
       "      <th>Sentence: 10000</th>\n",
       "      <td>[U.N., relief, coordinator, Jan, Egeland, said...</td>\n",
       "      <td>[NNP, NN, NN, NNP, NNP, VBD, NNP, ,, NNP, ,, J...</td>\n",
       "      <td>[B-geo, O, O, B-per, I-per, O, B-tim, O, B-geo...</td>\n",
       "    </tr>\n",
       "  </tbody>\n",
       "</table>\n",
       "</div>"
      ],
      "text/plain": [
       "                                                              Word  \\\n",
       "Sentence #                                                           \n",
       "Sentence: 1      [Thousands, of, demonstrators, have, marched, ...   \n",
       "Sentence: 10     [Iranian, officials, say, they, expect, to, ge...   \n",
       "Sentence: 100    [Helicopter, gunships, Saturday, pounded, mili...   \n",
       "Sentence: 1000   [They, left, after, a, tense, hour-long, stand...   \n",
       "Sentence: 10000  [U.N., relief, coordinator, Jan, Egeland, said...   \n",
       "\n",
       "                                                               POS  \\\n",
       "Sentence #                                                           \n",
       "Sentence: 1      [NNS, IN, NNS, VBP, VBN, IN, NNP, TO, VB, DT, ...   \n",
       "Sentence: 10     [JJ, NNS, VBP, PRP, VBP, TO, VB, NN, TO, JJ, J...   \n",
       "Sentence: 100    [NN, NNS, NNP, VBD, JJ, NNS, IN, DT, NNP, JJ, ...   \n",
       "Sentence: 1000      [PRP, VBD, IN, DT, NN, JJ, NN, IN, NN, NNS, .]   \n",
       "Sentence: 10000  [NNP, NN, NN, NNP, NNP, VBD, NNP, ,, NNP, ,, J...   \n",
       "\n",
       "                                                               Tag  \n",
       "Sentence #                                                          \n",
       "Sentence: 1      [O, O, O, O, O, O, B-geo, O, O, O, O, O, B-geo...  \n",
       "Sentence: 10     [B-gpe, O, O, O, O, O, O, O, O, O, O, O, O, O,...  \n",
       "Sentence: 100    [O, O, B-tim, O, O, O, O, O, B-geo, O, O, O, O...  \n",
       "Sentence: 1000                   [O, O, O, O, O, O, O, O, O, O, O]  \n",
       "Sentence: 10000  [B-geo, O, O, B-per, I-per, O, B-tim, O, B-geo...  "
      ]
     },
     "execution_count": 4,
     "metadata": {},
     "output_type": "execute_result"
    }
   ],
   "source": [
    "data_grouped = data.groupby([\"Sentence #\"])[['Word', 'POS', 'Tag']].agg(lambda x: list(x))\n",
    "data_grouped.head()"
   ]
  },
  {
   "cell_type": "code",
   "execution_count": 5,
   "metadata": {
    "execution": {
     "iopub.execute_input": "2021-09-12T15:28:24.593999Z",
     "iopub.status.busy": "2021-09-12T15:28:24.593662Z",
     "iopub.status.idle": "2021-09-12T15:28:24.601271Z",
     "shell.execute_reply": "2021-09-12T15:28:24.599323Z",
     "shell.execute_reply.started": "2021-09-12T15:28:24.593968Z"
    },
    "executionInfo": {
     "elapsed": 26,
     "status": "ok",
     "timestamp": 1660747250764,
     "user": {
      "displayName": "Md. Kamrul Hasan Tuhin",
      "userId": "09842155178617471284"
     },
     "user_tz": -360
    },
    "id": "dXpHcEKbY0gm"
   },
   "outputs": [],
   "source": [
    "sentences_list = data_grouped.Word.to_list()\n",
    "pos_tags_list = data_grouped.POS.to_list()"
   ]
  },
  {
   "cell_type": "code",
   "execution_count": 13,
   "metadata": {
    "colab": {
     "base_uri": "https://localhost:8080/"
    },
    "execution": {
     "iopub.execute_input": "2021-09-12T15:31:11.482315Z",
     "iopub.status.busy": "2021-09-12T15:31:11.481863Z",
     "iopub.status.idle": "2021-09-12T15:31:11.689004Z",
     "shell.execute_reply": "2021-09-12T15:31:11.688107Z",
     "shell.execute_reply.started": "2021-09-12T15:31:11.482279Z"
    },
    "executionInfo": {
     "elapsed": 30,
     "status": "ok",
     "timestamp": 1660747250771,
     "user": {
      "displayName": "Md. Kamrul Hasan Tuhin",
      "userId": "09842155178617471284"
     },
     "user_tz": -360
    },
    "id": "hGxpzWLChC88",
    "jupyter": {
     "source_hidden": true
    },
    "outputId": "517385b6-e1a4-43d5-bcd4-c819c2225dbf"
   },
   "outputs": [
    {
     "name": "stdout",
     "output_type": "stream",
     "text": [
      "Maximum length:  104\n"
     ]
    }
   ],
   "source": [
    "max_len = max([len(s) for s in sentences_list])\n",
    "print(\"Maximum length: \", max_len)\n",
    "\n",
    "words=list(set(data['Word'].values))\n",
    "words.sort()\n",
    "vocab={word: i for i,word in enumerate(words)}\n",
    "vocab[\"<PAD>\"] = len(vocab)\n",
    "vocab[\"<UNK>\"] = len(vocab)\n",
    "reverse_vocab = {v: k for k, v in vocab.items()}\n",
    "\n",
    "tags=list(set(data['POS'].values))\n",
    "tags.sort()\n",
    "num_tags=len(tags)\n",
    "tags_map={tag:i for i,tag in enumerate(tags)}\n",
    "reverse_tag_map={v: k for k, v in tags_map.items()}"
   ]
  },
  {
   "cell_type": "code",
   "execution_count": 18,
   "metadata": {},
   "outputs": [],
   "source": [
    "import pickle\n",
    "with open('pos_vocab.pickle', 'wb') as handle:\n",
    "    pickle.dump(vocab, handle, protocol=pickle.HIGHEST_PROTOCOL)\n",
    "    \n",
    "with open('pos_tags_map.pickle', 'wb') as handle:\n",
    "    pickle.dump(tags_map, handle, protocol=pickle.HIGHEST_PROTOCOL)"
   ]
  },
  {
   "cell_type": "code",
   "execution_count": 7,
   "metadata": {
    "execution": {
     "iopub.execute_input": "2021-09-12T15:31:22.928279Z",
     "iopub.status.busy": "2021-09-12T15:31:22.927970Z",
     "iopub.status.idle": "2021-09-12T15:31:22.935040Z",
     "shell.execute_reply": "2021-09-12T15:31:22.934071Z",
     "shell.execute_reply.started": "2021-09-12T15:31:22.928249Z"
    },
    "executionInfo": {
     "elapsed": 13,
     "status": "ok",
     "timestamp": 1660747251805,
     "user": {
      "displayName": "Md. Kamrul Hasan Tuhin",
      "userId": "09842155178617471284"
     },
     "user_tz": -360
    },
    "id": "o1x8-YHIgEJ_"
   },
   "outputs": [],
   "source": [
    "def preprocess(vocab, tag_map, sentences, labels):\n",
    "  sentences_encoded = []\n",
    "  labels_encoded = []\n",
    "\n",
    "  for sentence in sentences:\n",
    "      s = [vocab[token] if token in vocab \n",
    "            else vocab['<UNK>']\n",
    "            for token in sentence]\n",
    "      sentences_encoded.append(s)\n",
    "\n",
    "  for sentence in labels:\n",
    "      l = [tag_map[label] for label in sentence] \n",
    "      labels_encoded.append(l) \n",
    "  return sentences_encoded, labels_encoded, len(sentences)"
   ]
  },
  {
   "cell_type": "code",
   "execution_count": 8,
   "metadata": {
    "execution": {
     "iopub.execute_input": "2021-09-12T15:31:31.146434Z",
     "iopub.status.busy": "2021-09-12T15:31:31.146120Z",
     "iopub.status.idle": "2021-09-12T15:31:31.649804Z",
     "shell.execute_reply": "2021-09-12T15:31:31.648972Z",
     "shell.execute_reply.started": "2021-09-12T15:31:31.146404Z"
    },
    "executionInfo": {
     "elapsed": 536,
     "status": "ok",
     "timestamp": 1660747252986,
     "user": {
      "displayName": "Md. Kamrul Hasan Tuhin",
      "userId": "09842155178617471284"
     },
     "user_tz": -360
    },
    "id": "9sXs_gJuiIG1"
   },
   "outputs": [],
   "source": [
    "sentences_encoded, labels_encoded, data_length = preprocess(vocab, tags_map, sentences_list, pos_tags_list)"
   ]
  },
  {
   "cell_type": "code",
   "execution_count": 9,
   "metadata": {
    "colab": {
     "base_uri": "https://localhost:8080/"
    },
    "execution": {
     "iopub.execute_input": "2021-09-12T15:32:02.508714Z",
     "iopub.status.busy": "2021-09-12T15:32:02.508354Z",
     "iopub.status.idle": "2021-09-12T15:32:08.022859Z",
     "shell.execute_reply": "2021-09-12T15:32:08.021831Z",
     "shell.execute_reply.started": "2021-09-12T15:32:02.508683Z"
    },
    "executionInfo": {
     "elapsed": 2692,
     "status": "ok",
     "timestamp": 1660747255668,
     "user": {
      "displayName": "Md. Kamrul Hasan Tuhin",
      "userId": "09842155178617471284"
     },
     "user_tz": -360
    },
    "id": "tWsdOIMBbelW",
    "outputId": "b6077cb3-b2cb-4814-cfe6-24392e63247c"
   },
   "outputs": [
    {
     "name": "stdout",
     "output_type": "stream",
     "text": [
      "Shape of padded sentences: (47959, 128)\n",
      "Shape of padded labels: (47959, 128)\n"
     ]
    }
   ],
   "source": [
    "max_len=128\n",
    "\n",
    "padded_sentences = pad_sequences(maxlen=max_len, sequences=sentences_encoded, padding=\"post\", value=vocab[\"<PAD>\"])\n",
    "padded_tags = pad_sequences(maxlen=max_len, sequences=labels_encoded, padding=\"post\", value=tags_map['$'])\n",
    "\n",
    "print(\"Shape of padded sentences:\", padded_sentences.shape)\n",
    "print(\"Shape of padded labels:\", padded_tags.shape)"
   ]
  },
  {
   "cell_type": "code",
   "execution_count": 10,
   "metadata": {
    "execution": {
     "iopub.execute_input": "2021-09-12T15:32:08.024818Z",
     "iopub.status.busy": "2021-09-12T15:32:08.024449Z",
     "iopub.status.idle": "2021-09-12T15:32:09.208157Z",
     "shell.execute_reply": "2021-09-12T15:32:09.207315Z",
     "shell.execute_reply.started": "2021-09-12T15:32:08.024781Z"
    },
    "executionInfo": {
     "elapsed": 1387,
     "status": "ok",
     "timestamp": 1660747276254,
     "user": {
      "displayName": "Md. Kamrul Hasan Tuhin",
      "userId": "09842155178617471284"
     },
     "user_tz": -360
    },
    "id": "YDMOx1gAbo-R"
   },
   "outputs": [],
   "source": [
    "labels = [to_categorical(i, num_classes = num_tags) for i in  padded_tags]"
   ]
  },
  {
   "cell_type": "markdown",
   "metadata": {
    "id": "ZRBoZCOqO_q9"
   },
   "source": [
    "## Splitting data into train, validation and test sets"
   ]
  },
  {
   "cell_type": "code",
   "execution_count": 16,
   "metadata": {
    "colab": {
     "base_uri": "https://localhost:8080/"
    },
    "execution": {
     "iopub.execute_input": "2021-09-12T15:32:15.083573Z",
     "iopub.status.busy": "2021-09-12T15:32:15.083182Z",
     "iopub.status.idle": "2021-09-12T15:32:16.050744Z",
     "shell.execute_reply": "2021-09-12T15:32:16.049108Z",
     "shell.execute_reply.started": "2021-09-12T15:32:15.083541Z"
    },
    "executionInfo": {
     "elapsed": 809,
     "status": "ok",
     "timestamp": 1660747279875,
     "user": {
      "displayName": "Md. Kamrul Hasan Tuhin",
      "userId": "09842155178617471284"
     },
     "user_tz": -360
    },
    "id": "GDNZKsWdbwDH",
    "outputId": "e5aa092a-c781-4b5b-d667-c6f4a9dd7ef6"
   },
   "outputs": [
    {
     "name": "stdout",
     "output_type": "stream",
     "text": [
      "X_train shape:  (33571, 128)\n",
      "y_train shape:  (33571, 128, 42)\n",
      "X_test shape:  (4317, 128)\n",
      "y_test shape:  (4317, 128, 42)\n",
      "X_val shape:  (10071, 128)\n",
      "y_val shape:  (10071, 128, 42)\n"
     ]
    }
   ],
   "source": [
    "from sklearn.model_selection import train_test_split\n",
    "X_train, X_val_test, y_train, y_val_test = train_test_split(padded_sentences, labels, test_size = 0.3)\n",
    "X_val, X_test, y_val, y_test = train_test_split(X_val_test, y_val_test, test_size = 0.3)\n",
    "y_train = np.array(y_train)\n",
    "y_test = np.array(y_test)\n",
    "y_val = np.array(y_val)\n",
    "\n",
    "print(\"X_train shape: \", X_train.shape)\n",
    "print(\"y_train shape: \", y_train.shape)\n",
    "print(\"X_test shape: \", X_test.shape)\n",
    "print(\"y_test shape: \", y_test.shape)\n",
    "print(\"X_val shape: \", X_val.shape)\n",
    "print(\"y_val shape: \", y_val.shape)"
   ]
  },
  {
   "cell_type": "markdown",
   "metadata": {
    "id": "WFQgub1QO_rC"
   },
   "source": [
    "## Building Model"
   ]
  },
  {
   "cell_type": "code",
   "execution_count": 17,
   "metadata": {
    "execution": {
     "iopub.execute_input": "2021-09-12T15:32:21.102883Z",
     "iopub.status.busy": "2021-09-12T15:32:21.102558Z",
     "iopub.status.idle": "2021-09-12T15:32:21.149889Z",
     "shell.execute_reply": "2021-09-12T15:32:21.149054Z",
     "shell.execute_reply.started": "2021-09-12T15:32:21.102854Z"
    },
    "executionInfo": {
     "elapsed": 1040,
     "status": "ok",
     "timestamp": 1660747286227,
     "user": {
      "displayName": "Md. Kamrul Hasan Tuhin",
      "userId": "09842155178617471284"
     },
     "user_tz": -360
    },
    "id": "rkKGFaxBcKDR"
   },
   "outputs": [],
   "source": [
    "from tensorflow.keras import Model, Input\n",
    "from tensorflow.keras.layers import LSTM, Embedding, Dense\n",
    "from tensorflow.keras.layers import TimeDistributed, SpatialDropout1D, Bidirectional\n",
    "from keras.layers.merge import add"
   ]
  },
  {
   "cell_type": "code",
   "execution_count": 18,
   "metadata": {
    "colab": {
     "base_uri": "https://localhost:8080/"
    },
    "execution": {
     "iopub.execute_input": "2021-09-12T15:32:42.725718Z",
     "iopub.status.busy": "2021-09-12T15:32:42.725346Z",
     "iopub.status.idle": "2021-09-12T15:32:45.976457Z",
     "shell.execute_reply": "2021-09-12T15:32:45.975673Z",
     "shell.execute_reply.started": "2021-09-12T15:32:42.725688Z"
    },
    "executionInfo": {
     "elapsed": 5649,
     "status": "ok",
     "timestamp": 1660747293980,
     "user": {
      "displayName": "Md. Kamrul Hasan Tuhin",
      "userId": "09842155178617471284"
     },
     "user_tz": -360
    },
    "id": "6f-M6ZSocMCP",
    "outputId": "47733d64-f559-4f42-f4fd-5d92b32b7a14",
    "scrolled": true
   },
   "outputs": [
    {
     "name": "stdout",
     "output_type": "stream",
     "text": [
      "Model: \"model\"\n",
      "_________________________________________________________________\n",
      " Layer (type)                Output Shape              Param #   \n",
      "=================================================================\n",
      " input_1 (InputLayer)        [(None, 128)]             0         \n",
      "                                                                 \n",
      " embedding (Embedding)       (None, 128, 64)           2251584   \n",
      "                                                                 \n",
      " bidirectional (Bidirectiona  (None, 128, 128)         66048     \n",
      " l)                                                              \n",
      "                                                                 \n",
      " bidirectional_1 (Bidirectio  (None, 128, 128)         98816     \n",
      " nal)                                                            \n",
      "                                                                 \n",
      " lstm_2 (LSTM)               (None, 128, 64)           49408     \n",
      "                                                                 \n",
      " time_distributed (TimeDistr  (None, 128, 42)          2730      \n",
      " ibuted)                                                         \n",
      "                                                                 \n",
      "=================================================================\n",
      "Total params: 2,468,586\n",
      "Trainable params: 2,468,586\n",
      "Non-trainable params: 0\n",
      "_________________________________________________________________\n"
     ]
    }
   ],
   "source": [
    "embedding_dim = 64\n",
    "vocab_size = len(vocab)\n",
    "max_len = 128\n",
    "\n",
    "input_layer = Input(shape = (max_len,))\n",
    "embedding = Embedding(input_dim = vocab_size+1, output_dim = embedding_dim, input_length = max_len)(input_layer)\n",
    "x = Bidirectional(LSTM(units=embedding_dim, return_sequences=True))(embedding)\n",
    "x = Bidirectional(LSTM(units=embedding_dim, return_sequences=True))(x)\n",
    "x = LSTM(units=embedding_dim, return_sequences=True)(x)\n",
    "output = TimeDistributed(Dense(num_tags, activation=\"softmax\"))(x)  #TimeDistributed layer applies Dense layer to each time stamp\n",
    "\n",
    "model = Model(input_layer, output)\n",
    "model.compile(optimizer=\"adam\", loss=\"categorical_crossentropy\", metrics=['categorical_accuracy'])\n",
    "model.summary()"
   ]
  },
  {
   "cell_type": "markdown",
   "metadata": {
    "id": "4Hd3swS6O_rH"
   },
   "source": [
    "## Training Model"
   ]
  },
  {
   "cell_type": "code",
   "execution_count": 19,
   "metadata": {
    "colab": {
     "base_uri": "https://localhost:8080/"
    },
    "execution": {
     "iopub.execute_input": "2021-09-12T15:32:52.163607Z",
     "iopub.status.busy": "2021-09-12T15:32:52.163271Z",
     "iopub.status.idle": "2021-09-12T15:37:29.893966Z",
     "shell.execute_reply": "2021-09-12T15:37:29.893147Z",
     "shell.execute_reply.started": "2021-09-12T15:32:52.163575Z"
    },
    "executionInfo": {
     "elapsed": 904262,
     "status": "ok",
     "timestamp": 1660748198207,
     "user": {
      "displayName": "Md. Kamrul Hasan Tuhin",
      "userId": "09842155178617471284"
     },
     "user_tz": -360
    },
    "id": "4Ohle-skcnQf",
    "outputId": "c4cf4bf1-dba8-4095-a80d-cdb76239a6c1"
   },
   "outputs": [
    {
     "name": "stdout",
     "output_type": "stream",
     "text": [
      "Epoch 1/50\n",
      "525/525 [==============================] - 32s 38ms/step - loss: 0.5461 - categorical_accuracy: 0.8564 - val_loss: 0.4507 - val_categorical_accuracy: 0.8637\n",
      "Epoch 2/50\n",
      "525/525 [==============================] - 18s 34ms/step - loss: 0.3323 - categorical_accuracy: 0.9027 - val_loss: 0.1321 - val_categorical_accuracy: 0.9699\n",
      "Epoch 3/50\n",
      "525/525 [==============================] - 18s 35ms/step - loss: 0.0762 - categorical_accuracy: 0.9834 - val_loss: 0.0525 - val_categorical_accuracy: 0.9881\n",
      "Epoch 4/50\n",
      "525/525 [==============================] - 20s 39ms/step - loss: 0.0322 - categorical_accuracy: 0.9932 - val_loss: 0.0337 - val_categorical_accuracy: 0.9923\n",
      "Epoch 5/50\n",
      "525/525 [==============================] - 18s 34ms/step - loss: 0.0189 - categorical_accuracy: 0.9957 - val_loss: 0.0292 - val_categorical_accuracy: 0.9934\n",
      "Epoch 6/50\n",
      "525/525 [==============================] - 18s 34ms/step - loss: 0.0132 - categorical_accuracy: 0.9969 - val_loss: 0.0257 - val_categorical_accuracy: 0.9942\n",
      "Epoch 7/50\n",
      "525/525 [==============================] - 18s 34ms/step - loss: 0.0099 - categorical_accuracy: 0.9976 - val_loss: 0.0263 - val_categorical_accuracy: 0.9942\n",
      "Epoch 8/50\n",
      "525/525 [==============================] - 18s 34ms/step - loss: 0.0077 - categorical_accuracy: 0.9981 - val_loss: 0.0256 - val_categorical_accuracy: 0.9945\n",
      "Epoch 9/50\n",
      "525/525 [==============================] - 18s 34ms/step - loss: 0.0062 - categorical_accuracy: 0.9984 - val_loss: 0.0261 - val_categorical_accuracy: 0.9945\n",
      "Epoch 10/50\n",
      "525/525 [==============================] - 18s 34ms/step - loss: 0.0051 - categorical_accuracy: 0.9986 - val_loss: 0.0248 - val_categorical_accuracy: 0.9948\n",
      "Epoch 11/50\n",
      "525/525 [==============================] - 18s 34ms/step - loss: 0.0042 - categorical_accuracy: 0.9989 - val_loss: 0.0261 - val_categorical_accuracy: 0.9948\n",
      "Epoch 12/50\n",
      "525/525 [==============================] - 19s 36ms/step - loss: 0.0034 - categorical_accuracy: 0.9991 - val_loss: 0.0287 - val_categorical_accuracy: 0.9946\n",
      "Epoch 13/50\n",
      "525/525 [==============================] - 17s 33ms/step - loss: 0.0027 - categorical_accuracy: 0.9993 - val_loss: 0.0285 - val_categorical_accuracy: 0.9947\n",
      "Epoch 14/50\n",
      "525/525 [==============================] - 17s 33ms/step - loss: 0.0023 - categorical_accuracy: 0.9994 - val_loss: 0.0305 - val_categorical_accuracy: 0.9946\n",
      "Epoch 15/50\n",
      "525/525 [==============================] - 17s 33ms/step - loss: 0.0019 - categorical_accuracy: 0.9995 - val_loss: 0.0310 - val_categorical_accuracy: 0.9946\n",
      "Epoch 16/50\n",
      "525/525 [==============================] - 18s 33ms/step - loss: 0.0016 - categorical_accuracy: 0.9996 - val_loss: 0.0317 - val_categorical_accuracy: 0.9946\n",
      "Epoch 17/50\n",
      "525/525 [==============================] - 18s 34ms/step - loss: 0.0013 - categorical_accuracy: 0.9996 - val_loss: 0.0329 - val_categorical_accuracy: 0.9946\n",
      "Epoch 18/50\n",
      "525/525 [==============================] - 18s 34ms/step - loss: 0.0012 - categorical_accuracy: 0.9996 - val_loss: 0.0328 - val_categorical_accuracy: 0.9946\n",
      "Epoch 19/50\n",
      "525/525 [==============================] - 17s 33ms/step - loss: 0.0011 - categorical_accuracy: 0.9997 - val_loss: 0.0364 - val_categorical_accuracy: 0.9944\n",
      "Epoch 20/50\n",
      "525/525 [==============================] - 18s 35ms/step - loss: 8.8145e-04 - categorical_accuracy: 0.9998 - val_loss: 0.0351 - val_categorical_accuracy: 0.9947\n",
      "Epoch 21/50\n",
      "525/525 [==============================] - 18s 33ms/step - loss: 8.3656e-04 - categorical_accuracy: 0.9998 - val_loss: 0.0362 - val_categorical_accuracy: 0.9946\n",
      "Epoch 22/50\n",
      "525/525 [==============================] - 18s 33ms/step - loss: 7.3198e-04 - categorical_accuracy: 0.9998 - val_loss: 0.0353 - val_categorical_accuracy: 0.9947\n",
      "Epoch 23/50\n",
      "525/525 [==============================] - 18s 33ms/step - loss: 6.6333e-04 - categorical_accuracy: 0.9998 - val_loss: 0.0383 - val_categorical_accuracy: 0.9944\n",
      "Epoch 24/50\n",
      "525/525 [==============================] - 18s 34ms/step - loss: 5.9111e-04 - categorical_accuracy: 0.9998 - val_loss: 0.0356 - val_categorical_accuracy: 0.9948\n",
      "Epoch 25/50\n",
      "525/525 [==============================] - 17s 33ms/step - loss: 5.1375e-04 - categorical_accuracy: 0.9999 - val_loss: 0.0379 - val_categorical_accuracy: 0.9945\n",
      "Epoch 26/50\n",
      "525/525 [==============================] - 17s 33ms/step - loss: 4.4636e-04 - categorical_accuracy: 0.9999 - val_loss: 0.0395 - val_categorical_accuracy: 0.9946\n",
      "Epoch 27/50\n",
      "525/525 [==============================] - 17s 33ms/step - loss: 4.7146e-04 - categorical_accuracy: 0.9999 - val_loss: 0.0385 - val_categorical_accuracy: 0.9946\n",
      "Epoch 28/50\n",
      "525/525 [==============================] - 17s 33ms/step - loss: 4.5654e-04 - categorical_accuracy: 0.9999 - val_loss: 0.0417 - val_categorical_accuracy: 0.9945\n",
      "Epoch 29/50\n",
      "525/525 [==============================] - 18s 35ms/step - loss: 4.2407e-04 - categorical_accuracy: 0.9999 - val_loss: 0.0372 - val_categorical_accuracy: 0.9947\n",
      "Epoch 30/50\n",
      "525/525 [==============================] - 17s 33ms/step - loss: 3.7689e-04 - categorical_accuracy: 0.9999 - val_loss: 0.0388 - val_categorical_accuracy: 0.9947\n",
      "Epoch 31/50\n",
      "525/525 [==============================] - 17s 33ms/step - loss: 3.1072e-04 - categorical_accuracy: 0.9999 - val_loss: 0.0424 - val_categorical_accuracy: 0.9946\n",
      "Epoch 32/50\n",
      "525/525 [==============================] - 17s 33ms/step - loss: 3.2441e-04 - categorical_accuracy: 0.9999 - val_loss: 0.0423 - val_categorical_accuracy: 0.9945\n",
      "Epoch 33/50\n",
      "525/525 [==============================] - 17s 33ms/step - loss: 2.9265e-04 - categorical_accuracy: 0.9999 - val_loss: 0.0417 - val_categorical_accuracy: 0.9946\n",
      "Epoch 34/50\n",
      "525/525 [==============================] - 17s 33ms/step - loss: 3.1529e-04 - categorical_accuracy: 0.9999 - val_loss: 0.0405 - val_categorical_accuracy: 0.9947\n",
      "Epoch 35/50\n",
      "525/525 [==============================] - 17s 33ms/step - loss: 3.2444e-04 - categorical_accuracy: 0.9999 - val_loss: 0.0416 - val_categorical_accuracy: 0.9946\n",
      "Epoch 36/50\n",
      "525/525 [==============================] - 17s 33ms/step - loss: 2.8421e-04 - categorical_accuracy: 0.9999 - val_loss: 0.0414 - val_categorical_accuracy: 0.9946\n",
      "Epoch 37/50\n",
      "525/525 [==============================] - 17s 33ms/step - loss: 2.0203e-04 - categorical_accuracy: 0.9999 - val_loss: 0.0432 - val_categorical_accuracy: 0.9945\n",
      "Epoch 38/50\n",
      "525/525 [==============================] - 18s 35ms/step - loss: 1.5445e-04 - categorical_accuracy: 1.0000 - val_loss: 0.0439 - val_categorical_accuracy: 0.9946\n",
      "Epoch 39/50\n",
      "525/525 [==============================] - 17s 33ms/step - loss: 2.3630e-04 - categorical_accuracy: 0.9999 - val_loss: 0.0434 - val_categorical_accuracy: 0.9946\n",
      "Epoch 40/50\n",
      "525/525 [==============================] - 17s 33ms/step - loss: 2.4781e-04 - categorical_accuracy: 0.9999 - val_loss: 0.0440 - val_categorical_accuracy: 0.9946\n",
      "Epoch 41/50\n",
      "525/525 [==============================] - 17s 33ms/step - loss: 2.3629e-04 - categorical_accuracy: 0.9999 - val_loss: 0.0453 - val_categorical_accuracy: 0.9945\n",
      "Epoch 42/50\n",
      "525/525 [==============================] - 21s 40ms/step - loss: 2.5474e-04 - categorical_accuracy: 0.9999 - val_loss: 0.0451 - val_categorical_accuracy: 0.9945\n",
      "Epoch 43/50\n",
      "525/525 [==============================] - 18s 34ms/step - loss: 2.4028e-04 - categorical_accuracy: 0.9999 - val_loss: 0.0444 - val_categorical_accuracy: 0.9946\n",
      "Epoch 44/50\n",
      "525/525 [==============================] - 17s 33ms/step - loss: 2.2948e-04 - categorical_accuracy: 0.9999 - val_loss: 0.0444 - val_categorical_accuracy: 0.9946\n",
      "Epoch 45/50\n",
      "525/525 [==============================] - 17s 33ms/step - loss: 1.7679e-04 - categorical_accuracy: 0.9999 - val_loss: 0.0439 - val_categorical_accuracy: 0.9946\n",
      "Epoch 46/50\n",
      "525/525 [==============================] - 19s 36ms/step - loss: 1.2170e-04 - categorical_accuracy: 1.0000 - val_loss: 0.0419 - val_categorical_accuracy: 0.9947\n",
      "Epoch 47/50\n",
      "525/525 [==============================] - 17s 33ms/step - loss: 1.6111e-04 - categorical_accuracy: 1.0000 - val_loss: 0.0431 - val_categorical_accuracy: 0.9946\n",
      "Epoch 48/50\n",
      "525/525 [==============================] - 17s 33ms/step - loss: 2.0592e-04 - categorical_accuracy: 0.9999 - val_loss: 0.0431 - val_categorical_accuracy: 0.9946\n",
      "Epoch 49/50\n",
      "525/525 [==============================] - 17s 33ms/step - loss: 1.4745e-04 - categorical_accuracy: 1.0000 - val_loss: 0.0449 - val_categorical_accuracy: 0.9946\n",
      "Epoch 50/50\n",
      "525/525 [==============================] - 17s 33ms/step - loss: 1.1529e-04 - categorical_accuracy: 1.0000 - val_loss: 0.0461 - val_categorical_accuracy: 0.9944\n"
     ]
    }
   ],
   "source": [
    "history = model.fit(X_train, y_train, validation_data=(X_val, y_val), batch_size = 64, epochs = 50)"
   ]
  },
  {
   "cell_type": "markdown",
   "metadata": {
    "id": "9LUUyn9GO_rK"
   },
   "source": [
    "## Saving Model"
   ]
  },
  {
   "cell_type": "code",
   "execution_count": 20,
   "metadata": {
    "execution": {
     "iopub.execute_input": "2021-09-12T15:38:33.982617Z",
     "iopub.status.busy": "2021-09-12T15:38:33.982261Z",
     "iopub.status.idle": "2021-09-12T15:38:34.079796Z",
     "shell.execute_reply": "2021-09-12T15:38:34.078797Z",
     "shell.execute_reply.started": "2021-09-12T15:38:33.982584Z"
    },
    "executionInfo": {
     "elapsed": 535,
     "status": "ok",
     "timestamp": 1660748493645,
     "user": {
      "displayName": "Md. Kamrul Hasan Tuhin",
      "userId": "09842155178617471284"
     },
     "user_tz": -360
    },
    "id": "6xdnMG9yO_rL"
   },
   "outputs": [],
   "source": [
    "model.save('POS_model.h5')"
   ]
  },
  {
   "cell_type": "markdown",
   "metadata": {
    "id": "WEgol5qBO_rN"
   },
   "source": [
    "## Loading saved model"
   ]
  },
  {
   "cell_type": "code",
   "execution_count": 21,
   "metadata": {
    "execution": {
     "iopub.execute_input": "2021-09-12T15:38:40.747242Z",
     "iopub.status.busy": "2021-09-12T15:38:40.746907Z",
     "iopub.status.idle": "2021-09-12T15:38:42.187533Z",
     "shell.execute_reply": "2021-09-12T15:38:42.186547Z",
     "shell.execute_reply.started": "2021-09-12T15:38:40.747212Z"
    },
    "executionInfo": {
     "elapsed": 2980,
     "status": "ok",
     "timestamp": 1660748499387,
     "user": {
      "displayName": "Md. Kamrul Hasan Tuhin",
      "userId": "09842155178617471284"
     },
     "user_tz": -360
    },
    "id": "1155jjQ-O_rO"
   },
   "outputs": [],
   "source": [
    "from keras.models import load_model\n",
    "model = load_model('POS_model.h5')"
   ]
  },
  {
   "cell_type": "markdown",
   "metadata": {
    "id": "JGkR3HluO_rQ"
   },
   "source": [
    "## Evaluating predictions using test set"
   ]
  },
  {
   "cell_type": "code",
   "execution_count": 22,
   "metadata": {
    "execution": {
     "iopub.execute_input": "2021-09-12T15:38:49.553855Z",
     "iopub.status.busy": "2021-09-12T15:38:49.553461Z",
     "iopub.status.idle": "2021-09-12T15:38:52.499825Z",
     "shell.execute_reply": "2021-09-12T15:38:52.498876Z",
     "shell.execute_reply.started": "2021-09-12T15:38:49.553823Z"
    },
    "executionInfo": {
     "elapsed": 4001,
     "status": "ok",
     "timestamp": 1660748511124,
     "user": {
      "displayName": "Md. Kamrul Hasan Tuhin",
      "userId": "09842155178617471284"
     },
     "user_tz": -360
    },
    "id": "wXFvxMp4eFJb"
   },
   "outputs": [],
   "source": [
    "y_pred = model.predict(X_test) "
   ]
  },
  {
   "cell_type": "code",
   "execution_count": 23,
   "metadata": {
    "execution": {
     "iopub.execute_input": "2021-09-12T15:38:53.806829Z",
     "iopub.status.busy": "2021-09-12T15:38:53.806411Z",
     "iopub.status.idle": "2021-09-12T15:38:53.812464Z",
     "shell.execute_reply": "2021-09-12T15:38:53.811564Z",
     "shell.execute_reply.started": "2021-09-12T15:38:53.806795Z"
    },
    "executionInfo": {
     "elapsed": 19,
     "status": "ok",
     "timestamp": 1660748512780,
     "user": {
      "displayName": "Md. Kamrul Hasan Tuhin",
      "userId": "09842155178617471284"
     },
     "user_tz": -360
    },
    "id": "hbMtXdMyeM8q"
   },
   "outputs": [],
   "source": [
    "def evaluate_prediction(y_pred, y_test, pad):\n",
    "    outputs = np.argmax(y_pred, axis=2)\n",
    "    labels = np.argmax(y_test, axis=2)\n",
    "    mask = labels != pad\n",
    "    accuracy = np.sum(outputs == labels) / float(np.sum(mask))\n",
    "    return accuracy"
   ]
  },
  {
   "cell_type": "code",
   "execution_count": 24,
   "metadata": {
    "colab": {
     "base_uri": "https://localhost:8080/"
    },
    "execution": {
     "iopub.execute_input": "2021-09-12T15:38:57.500424Z",
     "iopub.status.busy": "2021-09-12T15:38:57.500112Z",
     "iopub.status.idle": "2021-09-12T15:38:57.574874Z",
     "shell.execute_reply": "2021-09-12T15:38:57.573848Z",
     "shell.execute_reply.started": "2021-09-12T15:38:57.500393Z"
    },
    "executionInfo": {
     "elapsed": 24,
     "status": "ok",
     "timestamp": 1660748516065,
     "user": {
      "displayName": "Md. Kamrul Hasan Tuhin",
      "userId": "09842155178617471284"
     },
     "user_tz": -360
    },
    "id": "dfa_bzCgO_rU",
    "outputId": "80ee7955-2132-47f5-a49e-71d41039c2cc"
   },
   "outputs": [
    {
     "name": "stdout",
     "output_type": "stream",
     "text": [
      "Accuracy on test set: 0.9943808634468381\n"
     ]
    }
   ],
   "source": [
    "acc = evaluate_prediction(y_pred, y_test, vocab[\"<PAD>\"])\n",
    "print('Accuracy on test set:', acc)"
   ]
  },
  {
   "cell_type": "markdown",
   "metadata": {
    "id": "0nU12exuO_rY"
   },
   "source": [
    "## Prediction on custom input"
   ]
  },
  {
   "cell_type": "code",
   "execution_count": 25,
   "metadata": {
    "execution": {
     "iopub.execute_input": "2021-09-12T15:39:09.978533Z",
     "iopub.status.busy": "2021-09-12T15:39:09.978174Z",
     "iopub.status.idle": "2021-09-12T15:39:09.987668Z",
     "shell.execute_reply": "2021-09-12T15:39:09.986621Z",
     "shell.execute_reply.started": "2021-09-12T15:39:09.978467Z"
    },
    "executionInfo": {
     "elapsed": 18,
     "status": "ok",
     "timestamp": 1660748518607,
     "user": {
      "displayName": "Md. Kamrul Hasan Tuhin",
      "userId": "09842155178617471284"
     },
     "user_tz": -360
    },
    "id": "4przRd-yZMYG"
   },
   "outputs": [],
   "source": [
    "def predict(sentence, model, vocab, tag_map):\n",
    "    s = [vocab[token] if token in vocab else vocab['<UNK>'] for token in sentence.split(' ')]\n",
    "    len_s = len(s)\n",
    "    if len_s<128:\n",
    "        padding = [vocab[\"<PAD>\"]]*(128-len_s)\n",
    "        s = s + padding\n",
    "    else:\n",
    "        s = s[:128]\n",
    "    batch_data = np.ones((1, len(s)))\n",
    "    batch_data[0][:] = s\n",
    "    sentence = np.array(batch_data).astype(int)\n",
    "    output = model(sentence)\n",
    "    outputs = np.argmax(output, axis=2)\n",
    "    labels = list(tag_map.keys())\n",
    "    pred = []\n",
    "    for i in range(len(outputs[0])):\n",
    "        idx = outputs[0][i] \n",
    "        pred_label = labels[idx]\n",
    "        pred.append(pred_label)\n",
    "    return pred"
   ]
  },
  {
   "cell_type": "code",
   "execution_count": 26,
   "metadata": {
    "colab": {
     "base_uri": "https://localhost:8080/"
    },
    "execution": {
     "iopub.execute_input": "2021-09-12T15:39:53.845401Z",
     "iopub.status.busy": "2021-09-12T15:39:53.845022Z",
     "iopub.status.idle": "2021-09-12T15:39:53.886643Z",
     "shell.execute_reply": "2021-09-12T15:39:53.885622Z",
     "shell.execute_reply.started": "2021-09-12T15:39:53.845363Z"
    },
    "executionInfo": {
     "elapsed": 619,
     "status": "ok",
     "timestamp": 1660748522564,
     "user": {
      "displayName": "Md. Kamrul Hasan Tuhin",
      "userId": "09842155178617471284"
     },
     "user_tz": -360
    },
    "id": "RDT1KSrxZxyd",
    "outputId": "26184e4f-a34f-4673-d85b-57ac4eb79d62"
   },
   "outputs": [
    {
     "name": "stdout",
     "output_type": "stream",
     "text": [
      "I-->PRP\n",
      "am-->VBP\n",
      "going-->VBG\n",
      "to-->TO\n",
      "market-->NN\n",
      "for-->IN\n",
      "buying-->VBG\n",
      "some-->DT\n",
      "foods-->NNS\n"
     ]
    }
   ],
   "source": [
    "sentence = \"I am going to market for buying some foods\"\n",
    "predictions = predict(sentence, model, vocab, tags_map)\n",
    "for x,y in zip(sentence.split(' '), predictions):\n",
    "    if y != 'O':\n",
    "        print(x, end=\"-->\")\n",
    "        print(y)"
   ]
  }
 ],
 "metadata": {
  "accelerator": "GPU",
  "colab": {
   "name": "parts-of-speech-tagging.ipynb",
   "provenance": []
  },
  "gpuClass": "standard",
  "kernelspec": {
   "display_name": "Python 3 (ipykernel)",
   "language": "python",
   "name": "python3"
  },
  "language_info": {
   "codemirror_mode": {
    "name": "ipython",
    "version": 3
   },
   "file_extension": ".py",
   "mimetype": "text/x-python",
   "name": "python",
   "nbconvert_exporter": "python",
   "pygments_lexer": "ipython3",
   "version": "3.8.5"
  }
 },
 "nbformat": 4,
 "nbformat_minor": 1
}
