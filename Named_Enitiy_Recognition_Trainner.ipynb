{
 "cells": [
  {
   "cell_type": "markdown",
   "metadata": {
    "id": "YYNdSQDvmAYF"
   },
   "source": [
    "## import necessary items"
   ]
  },
  {
   "cell_type": "code",
   "execution_count": 1,
   "metadata": {
    "colab": {
     "base_uri": "https://localhost:8080/"
    },
    "executionInfo": {
     "elapsed": 29226,
     "status": "ok",
     "timestamp": 1660753392709,
     "user": {
      "displayName": "Md. Kamrul Hasan Tuhin",
      "userId": "09842155178617471284"
     },
     "user_tz": -360
    },
    "id": "PC7wFnO4mQ8Y",
    "outputId": "6a0c6f18-e180-4bac-e5dc-e8ce9a326158"
   },
   "outputs": [
    {
     "name": "stdout",
     "output_type": "stream",
     "text": [
      "Mounted at /content/drive\n",
      "/content/drive/MyDrive/Colab Notebooks/POS Tagger and Named Entity Recognition\n"
     ]
    }
   ],
   "source": [
    "from google.colab import drive\n",
    "drive.mount('/content/drive')\n",
    "%cd /content/drive/MyDrive/Colab Notebooks/POS Tagger and Named Entity Recognition"
   ]
  },
  {
   "cell_type": "code",
   "execution_count": 1,
   "metadata": {
    "executionInfo": {
     "elapsed": 778,
     "status": "ok",
     "timestamp": 1660753393472,
     "user": {
      "displayName": "Md. Kamrul Hasan Tuhin",
      "userId": "09842155178617471284"
     },
     "user_tz": -360
    },
    "id": "x8T1PrTlxbMn"
   },
   "outputs": [],
   "source": [
    "import os \n",
    "import numpy as np\n",
    "import pandas as pd\n",
    "import random as rnd"
   ]
  },
  {
   "cell_type": "markdown",
   "metadata": {
    "id": "IgfqUhr7-rHx"
   },
   "source": [
    "## Loading and Preprocessing Dataset\n"
   ]
  },
  {
   "cell_type": "code",
   "execution_count": 2,
   "metadata": {
    "colab": {
     "base_uri": "https://localhost:8080/",
     "height": 206
    },
    "executionInfo": {
     "elapsed": 592,
     "status": "ok",
     "timestamp": 1660753394050,
     "user": {
      "displayName": "Md. Kamrul Hasan Tuhin",
      "userId": "09842155178617471284"
     },
     "user_tz": -360
    },
    "id": "fA_Qz-Q4leA_",
    "outputId": "624ceefe-f28f-4406-a9c1-8b3a92d6c2bc"
   },
   "outputs": [
    {
     "data": {
      "text/html": [
       "<div>\n",
       "<style scoped>\n",
       "    .dataframe tbody tr th:only-of-type {\n",
       "        vertical-align: middle;\n",
       "    }\n",
       "\n",
       "    .dataframe tbody tr th {\n",
       "        vertical-align: top;\n",
       "    }\n",
       "\n",
       "    .dataframe thead th {\n",
       "        text-align: right;\n",
       "    }\n",
       "</style>\n",
       "<table border=\"1\" class=\"dataframe\">\n",
       "  <thead>\n",
       "    <tr style=\"text-align: right;\">\n",
       "      <th></th>\n",
       "      <th>Sentence #</th>\n",
       "      <th>Word</th>\n",
       "      <th>POS</th>\n",
       "      <th>Tag</th>\n",
       "    </tr>\n",
       "  </thead>\n",
       "  <tbody>\n",
       "    <tr>\n",
       "      <th>0</th>\n",
       "      <td>Sentence: 1</td>\n",
       "      <td>Thousands</td>\n",
       "      <td>NNS</td>\n",
       "      <td>O</td>\n",
       "    </tr>\n",
       "    <tr>\n",
       "      <th>1</th>\n",
       "      <td>NaN</td>\n",
       "      <td>of</td>\n",
       "      <td>IN</td>\n",
       "      <td>O</td>\n",
       "    </tr>\n",
       "    <tr>\n",
       "      <th>2</th>\n",
       "      <td>NaN</td>\n",
       "      <td>demonstrators</td>\n",
       "      <td>NNS</td>\n",
       "      <td>O</td>\n",
       "    </tr>\n",
       "    <tr>\n",
       "      <th>3</th>\n",
       "      <td>NaN</td>\n",
       "      <td>have</td>\n",
       "      <td>VBP</td>\n",
       "      <td>O</td>\n",
       "    </tr>\n",
       "    <tr>\n",
       "      <th>4</th>\n",
       "      <td>NaN</td>\n",
       "      <td>marched</td>\n",
       "      <td>VBN</td>\n",
       "      <td>O</td>\n",
       "    </tr>\n",
       "  </tbody>\n",
       "</table>\n",
       "</div>"
      ],
      "text/plain": [
       "    Sentence #           Word  POS Tag\n",
       "0  Sentence: 1      Thousands  NNS   O\n",
       "1          NaN             of   IN   O\n",
       "2          NaN  demonstrators  NNS   O\n",
       "3          NaN           have  VBP   O\n",
       "4          NaN        marched  VBN   O"
      ]
     },
     "execution_count": 2,
     "metadata": {},
     "output_type": "execute_result"
    }
   ],
   "source": [
    "data = pd.read_csv('ner_dataset.csv', encoding= 'unicode_escape')\n",
    "data.head()"
   ]
  },
  {
   "cell_type": "code",
   "execution_count": 3,
   "metadata": {
    "colab": {
     "base_uri": "https://localhost:8080/",
     "height": 206
    },
    "executionInfo": {
     "elapsed": 39,
     "status": "ok",
     "timestamp": 1660753394057,
     "user": {
      "displayName": "Md. Kamrul Hasan Tuhin",
      "userId": "09842155178617471284"
     },
     "user_tz": -360
    },
    "id": "BWiTdF7kWwkx",
    "outputId": "cf3407ff-1919-4b41-bc6a-824ca3802efe"
   },
   "outputs": [
    {
     "data": {
      "text/html": [
       "<div>\n",
       "<style scoped>\n",
       "    .dataframe tbody tr th:only-of-type {\n",
       "        vertical-align: middle;\n",
       "    }\n",
       "\n",
       "    .dataframe tbody tr th {\n",
       "        vertical-align: top;\n",
       "    }\n",
       "\n",
       "    .dataframe thead th {\n",
       "        text-align: right;\n",
       "    }\n",
       "</style>\n",
       "<table border=\"1\" class=\"dataframe\">\n",
       "  <thead>\n",
       "    <tr style=\"text-align: right;\">\n",
       "      <th></th>\n",
       "      <th>Sentence #</th>\n",
       "      <th>Word</th>\n",
       "      <th>POS</th>\n",
       "      <th>Tag</th>\n",
       "    </tr>\n",
       "  </thead>\n",
       "  <tbody>\n",
       "    <tr>\n",
       "      <th>0</th>\n",
       "      <td>Sentence: 1</td>\n",
       "      <td>Thousands</td>\n",
       "      <td>NNS</td>\n",
       "      <td>O</td>\n",
       "    </tr>\n",
       "    <tr>\n",
       "      <th>1</th>\n",
       "      <td>Sentence: 1</td>\n",
       "      <td>of</td>\n",
       "      <td>IN</td>\n",
       "      <td>O</td>\n",
       "    </tr>\n",
       "    <tr>\n",
       "      <th>2</th>\n",
       "      <td>Sentence: 1</td>\n",
       "      <td>demonstrators</td>\n",
       "      <td>NNS</td>\n",
       "      <td>O</td>\n",
       "    </tr>\n",
       "    <tr>\n",
       "      <th>3</th>\n",
       "      <td>Sentence: 1</td>\n",
       "      <td>have</td>\n",
       "      <td>VBP</td>\n",
       "      <td>O</td>\n",
       "    </tr>\n",
       "    <tr>\n",
       "      <th>4</th>\n",
       "      <td>Sentence: 1</td>\n",
       "      <td>marched</td>\n",
       "      <td>VBN</td>\n",
       "      <td>O</td>\n",
       "    </tr>\n",
       "  </tbody>\n",
       "</table>\n",
       "</div>"
      ],
      "text/plain": [
       "    Sentence #           Word  POS Tag\n",
       "0  Sentence: 1      Thousands  NNS   O\n",
       "1  Sentence: 1             of   IN   O\n",
       "2  Sentence: 1  demonstrators  NNS   O\n",
       "3  Sentence: 1           have  VBP   O\n",
       "4  Sentence: 1        marched  VBN   O"
      ]
     },
     "execution_count": 3,
     "metadata": {},
     "output_type": "execute_result"
    }
   ],
   "source": [
    "data['Sentence #']=data['Sentence #'].ffill(axis = 0) \n",
    "data.head()"
   ]
  },
  {
   "cell_type": "code",
   "execution_count": 4,
   "metadata": {
    "colab": {
     "base_uri": "https://localhost:8080/",
     "height": 281
    },
    "executionInfo": {
     "elapsed": 14603,
     "status": "ok",
     "timestamp": 1660753408626,
     "user": {
      "displayName": "Md. Kamrul Hasan Tuhin",
      "userId": "09842155178617471284"
     },
     "user_tz": -360
    },
    "id": "pjiUKSRfXSgU",
    "outputId": "cf4e32e8-a712-4b0e-d68a-76e4e24fbd9e"
   },
   "outputs": [
    {
     "data": {
      "text/html": [
       "<div>\n",
       "<style scoped>\n",
       "    .dataframe tbody tr th:only-of-type {\n",
       "        vertical-align: middle;\n",
       "    }\n",
       "\n",
       "    .dataframe tbody tr th {\n",
       "        vertical-align: top;\n",
       "    }\n",
       "\n",
       "    .dataframe thead th {\n",
       "        text-align: right;\n",
       "    }\n",
       "</style>\n",
       "<table border=\"1\" class=\"dataframe\">\n",
       "  <thead>\n",
       "    <tr style=\"text-align: right;\">\n",
       "      <th></th>\n",
       "      <th>Word</th>\n",
       "      <th>POS</th>\n",
       "      <th>Tag</th>\n",
       "    </tr>\n",
       "    <tr>\n",
       "      <th>Sentence #</th>\n",
       "      <th></th>\n",
       "      <th></th>\n",
       "      <th></th>\n",
       "    </tr>\n",
       "  </thead>\n",
       "  <tbody>\n",
       "    <tr>\n",
       "      <th>Sentence: 1</th>\n",
       "      <td>[Thousands, of, demonstrators, have, marched, ...</td>\n",
       "      <td>[NNS, IN, NNS, VBP, VBN, IN, NNP, TO, VB, DT, ...</td>\n",
       "      <td>[O, O, O, O, O, O, B-geo, O, O, O, O, O, B-geo...</td>\n",
       "    </tr>\n",
       "    <tr>\n",
       "      <th>Sentence: 10</th>\n",
       "      <td>[Iranian, officials, say, they, expect, to, ge...</td>\n",
       "      <td>[JJ, NNS, VBP, PRP, VBP, TO, VB, NN, TO, JJ, J...</td>\n",
       "      <td>[B-gpe, O, O, O, O, O, O, O, O, O, O, O, O, O,...</td>\n",
       "    </tr>\n",
       "    <tr>\n",
       "      <th>Sentence: 100</th>\n",
       "      <td>[Helicopter, gunships, Saturday, pounded, mili...</td>\n",
       "      <td>[NN, NNS, NNP, VBD, JJ, NNS, IN, DT, NNP, JJ, ...</td>\n",
       "      <td>[O, O, B-tim, O, O, O, O, O, B-geo, O, O, O, O...</td>\n",
       "    </tr>\n",
       "    <tr>\n",
       "      <th>Sentence: 1000</th>\n",
       "      <td>[They, left, after, a, tense, hour-long, stand...</td>\n",
       "      <td>[PRP, VBD, IN, DT, NN, JJ, NN, IN, NN, NNS, .]</td>\n",
       "      <td>[O, O, O, O, O, O, O, O, O, O, O]</td>\n",
       "    </tr>\n",
       "    <tr>\n",
       "      <th>Sentence: 10000</th>\n",
       "      <td>[U.N., relief, coordinator, Jan, Egeland, said...</td>\n",
       "      <td>[NNP, NN, NN, NNP, NNP, VBD, NNP, ,, NNP, ,, J...</td>\n",
       "      <td>[B-geo, O, O, B-per, I-per, O, B-tim, O, B-geo...</td>\n",
       "    </tr>\n",
       "  </tbody>\n",
       "</table>\n",
       "</div>"
      ],
      "text/plain": [
       "                                                              Word  \\\n",
       "Sentence #                                                           \n",
       "Sentence: 1      [Thousands, of, demonstrators, have, marched, ...   \n",
       "Sentence: 10     [Iranian, officials, say, they, expect, to, ge...   \n",
       "Sentence: 100    [Helicopter, gunships, Saturday, pounded, mili...   \n",
       "Sentence: 1000   [They, left, after, a, tense, hour-long, stand...   \n",
       "Sentence: 10000  [U.N., relief, coordinator, Jan, Egeland, said...   \n",
       "\n",
       "                                                               POS  \\\n",
       "Sentence #                                                           \n",
       "Sentence: 1      [NNS, IN, NNS, VBP, VBN, IN, NNP, TO, VB, DT, ...   \n",
       "Sentence: 10     [JJ, NNS, VBP, PRP, VBP, TO, VB, NN, TO, JJ, J...   \n",
       "Sentence: 100    [NN, NNS, NNP, VBD, JJ, NNS, IN, DT, NNP, JJ, ...   \n",
       "Sentence: 1000      [PRP, VBD, IN, DT, NN, JJ, NN, IN, NN, NNS, .]   \n",
       "Sentence: 10000  [NNP, NN, NN, NNP, NNP, VBD, NNP, ,, NNP, ,, J...   \n",
       "\n",
       "                                                               Tag  \n",
       "Sentence #                                                          \n",
       "Sentence: 1      [O, O, O, O, O, O, B-geo, O, O, O, O, O, B-geo...  \n",
       "Sentence: 10     [B-gpe, O, O, O, O, O, O, O, O, O, O, O, O, O,...  \n",
       "Sentence: 100    [O, O, B-tim, O, O, O, O, O, B-geo, O, O, O, O...  \n",
       "Sentence: 1000                   [O, O, O, O, O, O, O, O, O, O, O]  \n",
       "Sentence: 10000  [B-geo, O, O, B-per, I-per, O, B-tim, O, B-geo...  "
      ]
     },
     "execution_count": 4,
     "metadata": {},
     "output_type": "execute_result"
    }
   ],
   "source": [
    "data_grouped = data.groupby([\"Sentence #\"])[['Word', 'POS', 'Tag']].agg(lambda x: list(x))\n",
    "data_grouped.head()"
   ]
  },
  {
   "cell_type": "code",
   "execution_count": 5,
   "metadata": {
    "executionInfo": {
     "elapsed": 131,
     "status": "ok",
     "timestamp": 1660753408632,
     "user": {
      "displayName": "Md. Kamrul Hasan Tuhin",
      "userId": "09842155178617471284"
     },
     "user_tz": -360
    },
    "id": "dXpHcEKbY0gm"
   },
   "outputs": [],
   "source": [
    "sentences_list = data_grouped.Word.to_list()\n",
    "ner_tags_list = data_grouped.Tag.to_list()"
   ]
  },
  {
   "cell_type": "code",
   "execution_count": 6,
   "metadata": {
    "colab": {
     "base_uri": "https://localhost:8080/"
    },
    "executionInfo": {
     "elapsed": 133,
     "status": "ok",
     "timestamp": 1660753408636,
     "user": {
      "displayName": "Md. Kamrul Hasan Tuhin",
      "userId": "09842155178617471284"
     },
     "user_tz": -360
    },
    "id": "hGxpzWLChC88",
    "outputId": "87503e84-7c9c-4353-936a-ffbe47f40cdc"
   },
   "outputs": [
    {
     "name": "stdout",
     "output_type": "stream",
     "text": [
      "Maximum length:  104\n"
     ]
    }
   ],
   "source": [
    "max_len = max([len(s) for s in sentences_list])\n",
    "print(\"Maximum length: \", max_len)\n",
    "\n",
    "words=list(set(data['Word'].values))\n",
    "words.sort()\n",
    "vocab={word: i for i,word in enumerate(words)}\n",
    "vocab[\"<PAD>\"] = len(vocab)\n",
    "vocab[\"<UNK>\"] = len(vocab)\n",
    "reverse_vocab = {v: k for k, v in vocab.items()}\n",
    "\n",
    "tags=list(set(data['Tag'].values))\n",
    "tags.sort()\n",
    "num_tags=len(tags)\n",
    "tags_map={tag:i for i,tag in enumerate(tags)}\n",
    "reverse_tag_map={v: k for k, v in tags_map.items()}"
   ]
  },
  {
   "cell_type": "code",
   "execution_count": 7,
   "metadata": {},
   "outputs": [],
   "source": [
    "import pickle\n",
    "with open('ner_vocab.pickle', 'wb') as handle:\n",
    "    pickle.dump(vocab, handle, protocol=pickle.HIGHEST_PROTOCOL)\n",
    "    \n",
    "with open('ner_tags_map.pickle', 'wb') as handle:\n",
    "    pickle.dump(tags_map, handle, protocol=pickle.HIGHEST_PROTOCOL)"
   ]
  },
  {
   "cell_type": "code",
   "execution_count": 8,
   "metadata": {
    "executionInfo": {
     "elapsed": 125,
     "status": "ok",
     "timestamp": 1660753408639,
     "user": {
      "displayName": "Md. Kamrul Hasan Tuhin",
      "userId": "09842155178617471284"
     },
     "user_tz": -360
    },
    "id": "o1x8-YHIgEJ_"
   },
   "outputs": [],
   "source": [
    "def preprocess(vocab, tag_map, sentences, labels):\n",
    "  sentences_int = []\n",
    "  labels_int = []\n",
    "\n",
    "  for sentence in sentences:\n",
    "      s = [vocab[token] if token in vocab \n",
    "            else vocab['<UNK>']\n",
    "            for token in sentence]\n",
    "      sentences_int.append(s)\n",
    "\n",
    "  for sentence in labels:\n",
    "      l = [tag_map[label] for label in sentence] \n",
    "      labels_int.append(l) \n",
    "  return sentences_int, labels_int, len(sentences)"
   ]
  },
  {
   "cell_type": "code",
   "execution_count": 9,
   "metadata": {
    "executionInfo": {
     "elapsed": 131,
     "status": "ok",
     "timestamp": 1660753408646,
     "user": {
      "displayName": "Md. Kamrul Hasan Tuhin",
      "userId": "09842155178617471284"
     },
     "user_tz": -360
    },
    "id": "9sXs_gJuiIG1"
   },
   "outputs": [],
   "source": [
    "sentences_encoded, labels_encoded, data_length = preprocess(vocab, tags_map, sentences_list, ner_tags_list)"
   ]
  },
  {
   "cell_type": "code",
   "execution_count": 10,
   "metadata": {
    "colab": {
     "base_uri": "https://localhost:8080/"
    },
    "executionInfo": {
     "elapsed": 132,
     "status": "ok",
     "timestamp": 1660753408648,
     "user": {
      "displayName": "Md. Kamrul Hasan Tuhin",
      "userId": "09842155178617471284"
     },
     "user_tz": -360
    },
    "id": "tWsdOIMBbelW",
    "outputId": "63a5426c-08c7-46f5-a633-b84d4abcd9c8"
   },
   "outputs": [
    {
     "name": "stdout",
     "output_type": "stream",
     "text": [
      "Shape of padded sentences: (47959, 128)\n",
      "Shape of padded labels: (47959, 128)\n"
     ]
    }
   ],
   "source": [
    "max_len=128\n",
    "from tensorflow.keras.preprocessing.sequence import pad_sequences\n",
    "from tensorflow.keras.utils import to_categorical\n",
    "\n",
    "padded_sentences = pad_sequences(maxlen=max_len, sequences=sentences_encoded, padding=\"post\", value=vocab[\"<PAD>\"])\n",
    "padded_tags = pad_sequences(maxlen=max_len, sequences=labels_encoded, padding=\"post\", value=tags_map['O'])\n",
    "\n",
    "print(\"Shape of padded sentences:\", padded_sentences.shape)\n",
    "print(\"Shape of padded labels:\", padded_tags.shape)"
   ]
  },
  {
   "cell_type": "code",
   "execution_count": 11,
   "metadata": {
    "executionInfo": {
     "elapsed": 134,
     "status": "ok",
     "timestamp": 1660753408660,
     "user": {
      "displayName": "Md. Kamrul Hasan Tuhin",
      "userId": "09842155178617471284"
     },
     "user_tz": -360
    },
    "id": "YDMOx1gAbo-R"
   },
   "outputs": [],
   "source": [
    "labels = [to_categorical(i, num_classes = num_tags) for i in  padded_tags]"
   ]
  },
  {
   "cell_type": "markdown",
   "metadata": {
    "id": "W-N2f3E7mAZ5"
   },
   "source": [
    "## Splitting data into train, validation and test sets"
   ]
  },
  {
   "cell_type": "code",
   "execution_count": 12,
   "metadata": {
    "colab": {
     "base_uri": "https://localhost:8080/"
    },
    "executionInfo": {
     "elapsed": 134,
     "status": "ok",
     "timestamp": 1660753408662,
     "user": {
      "displayName": "Md. Kamrul Hasan Tuhin",
      "userId": "09842155178617471284"
     },
     "user_tz": -360
    },
    "id": "GDNZKsWdbwDH",
    "outputId": "649ef142-cd7f-4574-9e81-a0566e9eea92"
   },
   "outputs": [
    {
     "name": "stdout",
     "output_type": "stream",
     "text": [
      "X_train shape:  (33571, 128)\n",
      "y_train shape:  (33571, 128, 17)\n",
      "X_test shape:  (4317, 128)\n",
      "y_test shape:  (4317, 128, 17)\n",
      "X_val shape:  (10071, 128)\n",
      "y_val shape:  (10071, 128, 17)\n"
     ]
    }
   ],
   "source": [
    "from sklearn.model_selection import train_test_split\n",
    "X_train, X_val_test, y_train, y_val_test = train_test_split(padded_sentences, labels, test_size = 0.3)\n",
    "X_val, X_test, y_val, y_test = train_test_split(X_val_test, y_val_test, test_size = 0.3)\n",
    "y_train = np.array(y_train)\n",
    "y_test = np.array(y_test)\n",
    "y_val = np.array(y_val)\n",
    "\n",
    "print(\"X_train shape: \", X_train.shape)\n",
    "print(\"y_train shape: \", y_train.shape)\n",
    "print(\"X_test shape: \", X_test.shape)\n",
    "print(\"y_test shape: \", y_test.shape)\n",
    "print(\"X_val shape: \", X_val.shape)\n",
    "print(\"y_val shape: \", y_val.shape)"
   ]
  },
  {
   "cell_type": "markdown",
   "metadata": {
    "id": "cPaMCu7FmAaC"
   },
   "source": [
    "## Building Model"
   ]
  },
  {
   "cell_type": "code",
   "execution_count": 13,
   "metadata": {
    "executionInfo": {
     "elapsed": 128,
     "status": "ok",
     "timestamp": 1660753408664,
     "user": {
      "displayName": "Md. Kamrul Hasan Tuhin",
      "userId": "09842155178617471284"
     },
     "user_tz": -360
    },
    "id": "rkKGFaxBcKDR"
   },
   "outputs": [],
   "source": [
    "from tensorflow.keras import Model, Input\n",
    "from tensorflow.keras.layers import LSTM, Embedding, Dense\n",
    "from tensorflow.keras.layers import TimeDistributed, SpatialDropout1D, Bidirectional\n",
    "from keras.layers.merge import add"
   ]
  },
  {
   "cell_type": "code",
   "execution_count": 14,
   "metadata": {
    "colab": {
     "base_uri": "https://localhost:8080/"
    },
    "executionInfo": {
     "elapsed": 128,
     "status": "ok",
     "timestamp": 1660753408668,
     "user": {
      "displayName": "Md. Kamrul Hasan Tuhin",
      "userId": "09842155178617471284"
     },
     "user_tz": -360
    },
    "id": "6f-M6ZSocMCP",
    "outputId": "a4f67722-9bd6-4e66-c6f8-08788f0d627f"
   },
   "outputs": [
    {
     "name": "stdout",
     "output_type": "stream",
     "text": [
      "Model: \"model\"\n",
      "__________________________________________________________________________________________________\n",
      " Layer (type)                   Output Shape         Param #     Connected to                     \n",
      "==================================================================================================\n",
      " input_1 (InputLayer)           [(None, 128)]        0           []                               \n",
      "                                                                                                  \n",
      " embedding (Embedding)          (None, 128, 64)      2251584     ['input_1[0][0]']                \n",
      "                                                                                                  \n",
      " bidirectional (Bidirectional)  (None, 128, 128)     66048       ['embedding[0][0]']              \n",
      "                                                                                                  \n",
      " lstm_1 (LSTM)                  (None, 128, 64)      49408       ['bidirectional[0][0]']          \n",
      "                                                                                                  \n",
      " lstm_2 (LSTM)                  (None, 128, 64)      33024       ['lstm_1[0][0]']                 \n",
      "                                                                                                  \n",
      " add (Add)                      (None, 128, 64)      0           ['lstm_1[0][0]',                 \n",
      "                                                                  'lstm_2[0][0]']                 \n",
      "                                                                                                  \n",
      " time_distributed (TimeDistribu  (None, 128, 17)     1105        ['add[0][0]']                    \n",
      " ted)                                                                                             \n",
      "                                                                                                  \n",
      "==================================================================================================\n",
      "Total params: 2,401,169\n",
      "Trainable params: 2,401,169\n",
      "Non-trainable params: 0\n",
      "__________________________________________________________________________________________________\n"
     ]
    }
   ],
   "source": [
    "embedding_dim = 64\n",
    "vocab_size = len(vocab)\n",
    "max_len = 128\n",
    "\n",
    "input = Input(shape = (max_len,))\n",
    "embedding = Embedding(input_dim = vocab_size+1, output_dim = embedding_dim, input_length = max_len)(input)\n",
    "x = Bidirectional(LSTM(units=embedding_dim, return_sequences=True))(embedding)\n",
    "x = LSTM(units=embedding_dim, return_sequences=True)(x)\n",
    "x2 = LSTM(units=embedding_dim, return_sequences=True)(x)\n",
    "x = add([x, x2])  # residual connection to the first biLSTM\n",
    "output = TimeDistributed(Dense(num_tags, activation=\"softmax\"))(x)  #TimeDistributed layer applies Dense layer to each time stamp\n",
    "\n",
    "model = Model(input, output)\n",
    "model.compile(optimizer=\"adam\", loss=\"categorical_crossentropy\", metrics=['mae', 'categorical_accuracy'])\n",
    "model.summary()"
   ]
  },
  {
   "cell_type": "markdown",
   "metadata": {
    "id": "LZ2_1C5imAaM"
   },
   "source": [
    "## Training Model"
   ]
  },
  {
   "cell_type": "code",
   "execution_count": 15,
   "metadata": {
    "colab": {
     "background_save": true,
     "base_uri": "https://localhost:8080/"
    },
    "executionInfo": {
     "elapsed": 739812,
     "status": "ok",
     "timestamp": 1660754148394,
     "user": {
      "displayName": "Md. Kamrul Hasan Tuhin",
      "userId": "09842155178617471284"
     },
     "user_tz": -360
    },
    "id": "4Ohle-skcnQf"
   },
   "outputs": [
    {
     "name": "stdout",
     "output_type": "stream",
     "text": [
      "Epoch 1/50\n",
      "525/525 [==============================] - 281s 517ms/step - loss: 0.1337 - mae: 0.0060 - categorical_accuracy: 0.9750 - val_loss: 0.0541 - val_mae: 0.0027 - val_categorical_accuracy: 0.9825\n",
      "Epoch 2/50\n",
      "525/525 [==============================] - 268s 511ms/step - loss: 0.0415 - mae: 0.0023 - categorical_accuracy: 0.9873 - val_loss: 0.0348 - val_mae: 0.0020 - val_categorical_accuracy: 0.9905\n",
      "Epoch 3/50\n",
      "525/525 [==============================] - 266s 507ms/step - loss: 0.0232 - mae: 0.0013 - categorical_accuracy: 0.9936 - val_loss: 0.0239 - val_mae: 0.0013 - val_categorical_accuracy: 0.9931\n",
      "Epoch 4/50\n",
      "525/525 [==============================] - 270s 515ms/step - loss: 0.0163 - mae: 8.8681e-04 - categorical_accuracy: 0.9954 - val_loss: 0.0221 - val_mae: 0.0010 - val_categorical_accuracy: 0.9937\n",
      "Epoch 5/50\n",
      "525/525 [==============================] - 270s 515ms/step - loss: 0.0131 - mae: 7.1712e-04 - categorical_accuracy: 0.9962 - val_loss: 0.0214 - val_mae: 9.5594e-04 - val_categorical_accuracy: 0.9938\n",
      "Epoch 6/50\n",
      "525/525 [==============================] - 267s 508ms/step - loss: 0.0109 - mae: 5.9398e-04 - categorical_accuracy: 0.9968 - val_loss: 0.0225 - val_mae: 9.9057e-04 - val_categorical_accuracy: 0.9934\n",
      "Epoch 7/50\n",
      "525/525 [==============================] - 265s 504ms/step - loss: 0.0093 - mae: 5.1243e-04 - categorical_accuracy: 0.9972 - val_loss: 0.0233 - val_mae: 9.1442e-04 - val_categorical_accuracy: 0.9937\n",
      "Epoch 8/50\n",
      "525/525 [==============================] - 264s 503ms/step - loss: 0.0080 - mae: 4.4354e-04 - categorical_accuracy: 0.9976 - val_loss: 0.0244 - val_mae: 9.0291e-04 - val_categorical_accuracy: 0.9936\n",
      "Epoch 9/50\n",
      "525/525 [==============================] - 266s 506ms/step - loss: 0.0070 - mae: 3.8962e-04 - categorical_accuracy: 0.9979 - val_loss: 0.0255 - val_mae: 9.4811e-04 - val_categorical_accuracy: 0.9933\n",
      "Epoch 10/50\n",
      "525/525 [==============================] - 268s 511ms/step - loss: 0.0061 - mae: 3.4370e-04 - categorical_accuracy: 0.9982 - val_loss: 0.0269 - val_mae: 9.0128e-04 - val_categorical_accuracy: 0.9934\n",
      "Epoch 11/50\n",
      "525/525 [==============================] - 266s 507ms/step - loss: 0.0055 - mae: 3.0758e-04 - categorical_accuracy: 0.9983 - val_loss: 0.0291 - val_mae: 8.6661e-04 - val_categorical_accuracy: 0.9935\n",
      "Epoch 12/50\n",
      "525/525 [==============================] - 268s 511ms/step - loss: 0.0048 - mae: 2.7374e-04 - categorical_accuracy: 0.9986 - val_loss: 0.0299 - val_mae: 9.3670e-04 - val_categorical_accuracy: 0.9930\n",
      "Epoch 13/50\n",
      "525/525 [==============================] - 265s 505ms/step - loss: 0.0043 - mae: 2.4546e-04 - categorical_accuracy: 0.9987 - val_loss: 0.0312 - val_mae: 8.9632e-04 - val_categorical_accuracy: 0.9932\n",
      "Epoch 14/50\n",
      "246/525 [=============>................] - ETA: 2:10 - loss: 0.0035 - mae: 2.0740e-04 - categorical_accuracy: 0.9989"
     ]
    }
   ],
   "source": [
    "history = model.fit(X_train, y_train, validation_data=(X_val, y_val), batch_size = 64, epochs = 50)"
   ]
  },
  {
   "cell_type": "markdown",
   "metadata": {
    "id": "T5qypJhfmAaR"
   },
   "source": [
    "## Saving Model"
   ]
  },
  {
   "cell_type": "code",
   "execution_count": 16,
   "metadata": {
    "executionInfo": {
     "elapsed": 50,
     "status": "ok",
     "timestamp": 1660754148397,
     "user": {
      "displayName": "Md. Kamrul Hasan Tuhin",
      "userId": "09842155178617471284"
     },
     "user_tz": -360
    },
    "id": "w-aLihLomAaV"
   },
   "outputs": [],
   "source": [
    "model.save('NER_model.h5')"
   ]
  },
  {
   "cell_type": "markdown",
   "metadata": {
    "id": "gJ2fzqTKmAaW"
   },
   "source": [
    "## Loading saved model"
   ]
  },
  {
   "cell_type": "code",
   "execution_count": 17,
   "metadata": {
    "executionInfo": {
     "elapsed": 52,
     "status": "ok",
     "timestamp": 1660754148401,
     "user": {
      "displayName": "Md. Kamrul Hasan Tuhin",
      "userId": "09842155178617471284"
     },
     "user_tz": -360
    },
    "id": "wXN4gFmHmAad"
   },
   "outputs": [],
   "source": [
    "from keras.models import load_model\n",
    "model = load_model('NER_model.h5')"
   ]
  },
  {
   "cell_type": "markdown",
   "metadata": {
    "id": "TbZa8FrUmAav"
   },
   "source": [
    "## Evaluating predictions using test set"
   ]
  },
  {
   "cell_type": "code",
   "execution_count": 18,
   "metadata": {
    "executionInfo": {
     "elapsed": 2425,
     "status": "ok",
     "timestamp": 1660754150776,
     "user": {
      "displayName": "Md. Kamrul Hasan Tuhin",
      "userId": "09842155178617471284"
     },
     "user_tz": -360
    },
    "id": "wXFvxMp4eFJb"
   },
   "outputs": [],
   "source": [
    "y_pred = model.predict(X_test) "
   ]
  },
  {
   "cell_type": "code",
   "execution_count": 19,
   "metadata": {
    "executionInfo": {
     "elapsed": 49,
     "status": "ok",
     "timestamp": 1660754150778,
     "user": {
      "displayName": "Md. Kamrul Hasan Tuhin",
      "userId": "09842155178617471284"
     },
     "user_tz": -360
    },
    "id": "hbMtXdMyeM8q"
   },
   "outputs": [],
   "source": [
    "def evaluate_prediction(y_pred, y_test, pad):\n",
    "    outputs = np.argmax(y_pred, axis=2)\n",
    "    labels = np.argmax(y_test, axis=2)\n",
    "    mask = labels != pad\n",
    "    accuracy = np.sum(outputs == labels) / float(np.sum(mask))\n",
    "    return accuracy"
   ]
  },
  {
   "cell_type": "code",
   "execution_count": 20,
   "metadata": {
    "colab": {
     "base_uri": "https://localhost:8080/"
    },
    "executionInfo": {
     "elapsed": 50,
     "status": "ok",
     "timestamp": 1660754150780,
     "user": {
      "displayName": "Md. Kamrul Hasan Tuhin",
      "userId": "09842155178617471284"
     },
     "user_tz": -360
    },
    "id": "iwwlXlQmmAa0",
    "outputId": "b0f4af22-21ad-45ac-f1aa-db9d86d568d1"
   },
   "outputs": [
    {
     "name": "stdout",
     "output_type": "stream",
     "text": [
      "Accuracy on test set: 0.9924064744035209\n"
     ]
    }
   ],
   "source": [
    "acc = evaluate_prediction(y_pred, y_test, vocab[\"<PAD>\"])\n",
    "print('Accuracy on test set:', acc)"
   ]
  },
  {
   "cell_type": "markdown",
   "metadata": {
    "id": "0rmNIvcmmAa6"
   },
   "source": [
    "## Prediction on custom input"
   ]
  },
  {
   "cell_type": "code",
   "execution_count": 21,
   "metadata": {
    "executionInfo": {
     "elapsed": 44,
     "status": "ok",
     "timestamp": 1660754150783,
     "user": {
      "displayName": "Md. Kamrul Hasan Tuhin",
      "userId": "09842155178617471284"
     },
     "user_tz": -360
    },
    "id": "4przRd-yZMYG"
   },
   "outputs": [],
   "source": [
    "def predict(sentence, model, vocab, tag_map):\n",
    "    s = [vocab[token] if token in vocab else vocab['<UNK>'] for token in sentence.split(' ')]\n",
    "    len_s = len(s)\n",
    "    if len_s<128:\n",
    "        padding = [vocab[\"<PAD>\"]]*(128-len_s)\n",
    "        s = s + padding\n",
    "    else:\n",
    "        s = s[:128]\n",
    "    batch_data = np.ones((1, len(s)))\n",
    "    batch_data[0][:] = s\n",
    "    sentence = np.array(batch_data).astype(int)\n",
    "    output = model(sentence)\n",
    "    outputs = np.argmax(output, axis=2)\n",
    "    labels = list(tag_map.keys())\n",
    "    pred = []\n",
    "    for i in range(len(outputs[0])):\n",
    "        idx = outputs[0][i] \n",
    "        pred_label = labels[idx]\n",
    "        pred.append(pred_label)\n",
    "    return pred"
   ]
  },
  {
   "cell_type": "code",
   "execution_count": 24,
   "metadata": {
    "colab": {
     "base_uri": "https://localhost:8080/"
    },
    "executionInfo": {
     "elapsed": 11,
     "status": "ok",
     "timestamp": 1660754371947,
     "user": {
      "displayName": "Md. Kamrul Hasan Tuhin",
      "userId": "09842155178617471284"
     },
     "user_tz": -360
    },
    "id": "RDT1KSrxZxyd",
    "outputId": "c265ebd5-d0c7-4528-ba77-7df0c2988a60"
   },
   "outputs": [
    {
     "name": "stdout",
     "output_type": "stream",
     "text": [
      "Google-->B-org\n",
      "LLC-->I-org\n",
      "American-->B-gpe\n",
      "engine,-->B-geo\n",
      "computing,-->I-org\n",
      "software,-->I-org\n",
      "hardware.-->B-org\n"
     ]
    }
   ],
   "source": [
    "sentence = \"Google LLC is an American multinational technology \\\n",
    "company that specializes in Internet-related services and products, \\\n",
    "which include online advertising technologies \\\n",
    "search engine, cloud computing, software, and hardware.\"\n",
    "predictions = predict(sentence, model, vocab, tags_map)\n",
    "for x,y in zip(sentence.split(' '), predictions):\n",
    "    if y != 'O':\n",
    "        print(x, end=\"-->\")\n",
    "        print(y)"
   ]
  }
 ],
 "metadata": {
  "accelerator": "GPU",
  "colab": {
   "collapsed_sections": [],
   "name": "named-entity-recognition-using-keras.ipynb",
   "version": ""
  },
  "gpuClass": "standard",
  "kernelspec": {
   "display_name": "Python 3 (ipykernel)",
   "language": "python",
   "name": "python3"
  },
  "language_info": {
   "codemirror_mode": {
    "name": "ipython",
    "version": 3
   },
   "file_extension": ".py",
   "mimetype": "text/x-python",
   "name": "python",
   "nbconvert_exporter": "python",
   "pygments_lexer": "ipython3",
   "version": "3.8.5"
  }
 },
 "nbformat": 4,
 "nbformat_minor": 1
}
